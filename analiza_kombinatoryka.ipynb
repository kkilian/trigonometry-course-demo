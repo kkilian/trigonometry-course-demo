{
 "cells": [
  {
   "cell_type": "markdown",
   "metadata": {},
   "source": [
    "# 📊 Dogłębna Analiza Zadań Kombinatorycznych\n",
    "\n",
    "Analiza pliku: `src/data/kombinatoryka-problems.json`"
   ]
  },
  {
   "cell_type": "code",
   "execution_count": null,
   "metadata": {},
   "outputs": [],
   "source": [
    "import json\n",
    "import pandas as pd\n",
    "import numpy as np\n",
    "from collections import Counter, defaultdict\n",
    "import matplotlib.pyplot as plt\n",
    "import seaborn as sns\n",
    "\n",
    "# Ustawienia wyświetlania\n",
    "pd.set_option('display.max_columns', None)\n",
    "pd.set_option('display.max_rows', 100)\n",
    "sns.set_style('whitegrid')\n",
    "plt.rcParams['figure.figsize'] = (12, 6)"
   ]
  },
  {
   "cell_type": "markdown",
   "metadata": {},
   "source": [
    "## 1. Wczytanie Danych"
   ]
  },
  {
   "cell_type": "code",
   "execution_count": null,
   "metadata": {},
   "outputs": [],
   "source": [
    "# Wczytanie danych\n",
    "with open('src/data/kombinatoryka-problems.json', 'r', encoding='utf-8') as f:\n",
    "    data = json.load(f)\n",
    "\n",
    "print(f\"🔢 Liczba zadań: {len(data)}\")\n",
    "print(f\"📝 Rozmiar pliku: {len(json.dumps(data))} znaków\")"
   ]
  },
  {
   "cell_type": "markdown",
   "metadata": {},
   "source": [
    "## 2. Podstawowe Statystyki"
   ]
  },
  {
   "cell_type": "code",
   "execution_count": null,
   "metadata": {},
   "outputs": [],
   "source": [
    "# Utworzenie DataFrame z podstawowymi informacjami\n",
    "basic_info = []\n",
    "for p in data:\n",
    "    basic_info.append({\n",
    "        'id': p.get('id', 'N/A'),\n",
    "        'topic': p.get('topic', 'N/A'),\n",
    "        'difficulty': p.get('difficulty', 0),\n",
    "        'num_steps': len(p.get('steps', [])),\n",
    "        'has_solution': len(p.get('solutions', [])) > 0,\n",
    "        'num_solutions': len(p.get('solutions', [])),\n",
    "        'timestamp': p.get('timestamp', 'N/A')\n",
    "    })\n",
    "\n",
    "df_basic = pd.DataFrame(basic_info)\n",
    "print(\"\\n📊 Podstawowe informacje o zadaniach:\")\n",
    "df_basic.head(10)"
   ]
  },
  {
   "cell_type": "code",
   "execution_count": null,
   "metadata": {},
   "outputs": [],
   "source": [
    "# Statystyki opisowe\n",
    "print(\"\\n📈 Statystyki opisowe:\")\n",
    "df_basic[['difficulty', 'num_steps', 'num_solutions']].describe()"
   ]
  },
  {
   "cell_type": "markdown",
   "metadata": {},
   "source": [
    "## 3. Analiza Poziomów Trudności"
   ]
  },
  {
   "cell_type": "code",
   "execution_count": null,
   "metadata": {},
   "outputs": [],
   "source": [
    "# Rozkład poziomów trudności\n",
    "difficulty_counts = df_basic['difficulty'].value_counts().sort_index()\n",
    "\n",
    "print(\"\\n🎯 Rozkład poziomów trudności:\")\n",
    "for diff, count in difficulty_counts.items():\n",
    "    percentage = (count / len(df_basic)) * 100\n",
    "    print(f\"  Poziom {diff}: {count} zadań ({percentage:.1f}%)\")\n",
    "\n",
    "# Wykres\n",
    "fig, ax = plt.subplots(1, 2, figsize=(14, 5))\n",
    "\n",
    "# Wykres słupkowy\n",
    "difficulty_counts.plot(kind='bar', ax=ax[0], color='steelblue')\n",
    "ax[0].set_title('Rozkład Poziomów Trudności', fontsize=14, fontweight='bold')\n",
    "ax[0].set_xlabel('Poziom trudności')\n",
    "ax[0].set_ylabel('Liczba zadań')\n",
    "ax[0].grid(axis='y', alpha=0.3)\n",
    "\n",
    "# Wykres kołowy\n",
    "difficulty_counts.plot(kind='pie', ax=ax[1], autopct='%1.1f%%', startangle=90)\n",
    "ax[1].set_title('Procentowy Rozkład Trudności', fontsize=14, fontweight='bold')\n",
    "ax[1].set_ylabel('')\n",
    "\n",
    "plt.tight_layout()\n",
    "plt.show()"
   ]
  },
  {
   "cell_type": "markdown",
   "metadata": {},
   "source": [
    "## 4. Analiza Kroków (Steps)"
   ]
  },
  {
   "cell_type": "code",
   "execution_count": null,
   "metadata": {},
   "outputs": [],
   "source": [
    "# Korelacja trudność vs liczba kroków\n",
    "print(\"\\n📚 Korelacja: Trudność vs Liczba Kroków\")\n",
    "difficulty_steps_stats = df_basic.groupby('difficulty')['num_steps'].agg(['mean', 'min', 'max', 'std'])\n",
    "print(difficulty_steps_stats)\n",
    "\n",
    "# Wykres pudełkowy\n",
    "plt.figure(figsize=(10, 6))\n",
    "df_basic.boxplot(column='num_steps', by='difficulty', grid=False)\n",
    "plt.suptitle('')\n",
    "plt.title('Rozkład Liczby Kroków według Poziomu Trudności', fontsize=14, fontweight='bold')\n",
    "plt.xlabel('Poziom trudności')\n",
    "plt.ylabel('Liczba kroków')\n",
    "plt.show()"
   ]
  },
  {
   "cell_type": "code",
   "execution_count": null,
   "metadata": {},
   "outputs": [],
   "source": [
    "# Szczegółowa analiza kroków\n",
    "step_analysis = []\n",
    "\n",
    "for p in data:\n",
    "    for step in p.get('steps', []):\n",
    "        step_analysis.append({\n",
    "            'problem_id': p.get('id'),\n",
    "            'has_hint': 'hint' in step,\n",
    "            'has_expression': 'expression' in step,\n",
    "            'has_explanation': 'explanation' in step,\n",
    "            'has_why': 'why' in step,\n",
    "            'has_interactive_choice': 'interactive_choice' in step\n",
    "        })\n",
    "\n",
    "df_steps = pd.DataFrame(step_analysis)\n",
    "\n",
    "print(\"\\n🔍 Analiza kompletności kroków:\")\n",
    "print(f\"  Całkowita liczba kroków: {len(df_steps)}\")\n",
    "print(f\"  Kroków z 'hint': {df_steps['has_hint'].sum()} ({100*df_steps['has_hint'].mean():.1f}%)\")\n",
    "print(f\"  Kroków z 'expression': {df_steps['has_expression'].sum()} ({100*df_steps['has_expression'].mean():.1f}%)\")\n",
    "print(f\"  Kroków z 'explanation': {df_steps['has_explanation'].sum()} ({100*df_steps['has_explanation'].mean():.1f}%)\")\n",
    "print(f\"  Kroków z 'why': {df_steps['has_why'].sum()} ({100*df_steps['has_why'].mean():.1f}%)\")\n",
    "print(f\"  Kroków z 'interactive_choice': {df_steps['has_interactive_choice'].sum()} ({100*df_steps['has_interactive_choice'].mean():.1f}%)\")"
   ]
  },
  {
   "cell_type": "markdown",
   "metadata": {},
   "source": [
    "## 5. Analiza Interactive Choices"
   ]
  },
  {
   "cell_type": "code",
   "execution_count": null,
   "metadata": {},
   "outputs": [],
   "source": [
    "# Szczegółowa analiza pytań interaktywnych\n",
    "ic_analysis = []\n",
    "\n",
    "for p in data:\n",
    "    for step in p.get('steps', []):\n",
    "        if 'interactive_choice' in step:\n",
    "            ic = step['interactive_choice']\n",
    "            options = ic.get('options', [])\n",
    "            \n",
    "            correct_count = sum(1 for opt in options if opt.get('is_correct', False))\n",
    "            all_have_feedback = all('feedback' in opt for opt in options)\n",
    "            \n",
    "            ic_analysis.append({\n",
    "                'problem_id': p.get('id'),\n",
    "                'num_options': len(options),\n",
    "                'num_correct': correct_count,\n",
    "                'all_have_feedback': all_have_feedback,\n",
    "                'has_prompt': 'prompt' in ic,\n",
    "                'has_explanation_after': 'explanation_after' in ic\n",
    "            })\n",
    "\n",
    "if ic_analysis:\n",
    "    df_ic = pd.DataFrame(ic_analysis)\n",
    "    \n",
    "    print(\"\\n🎮 Analiza Interactive Choices:\")\n",
    "    print(f\"  Liczba pytań interaktywnych: {len(df_ic)}\")\n",
    "    print(f\"  Średnia liczba opcji: {df_ic['num_options'].mean():.2f}\")\n",
    "    print(f\"  Pytań gdzie wszystkie opcje mają feedback: {df_ic['all_have_feedback'].sum()} ({100*df_ic['all_have_feedback'].mean():.1f}%)\")\n",
    "    print(f\"  Pytań z 'explanation_after': {df_ic['has_explanation_after'].sum()} ({100*df_ic['has_explanation_after'].mean():.1f}%)\")\n",
    "    \n",
    "    # Rozkład liczby opcji\n",
    "    print(\"\\n  Rozkład liczby opcji:\")\n",
    "    print(df_ic['num_options'].value_counts().sort_index())\n",
    "    \n",
    "    # Rozkład liczby poprawnych odpowiedzi\n",
    "    print(\"\\n  Rozkład liczby poprawnych odpowiedzi:\")\n",
    "    print(df_ic['num_correct'].value_counts().sort_index())\n",
    "else:\n",
    "    print(\"\\n⚠️  Brak pytań interaktywnych\")"
   ]
  },
  {
   "cell_type": "markdown",
   "metadata": {},
   "source": [
    "## 6. Analiza Tematyczna"
   ]
  },
  {
   "cell_type": "code",
   "execution_count": null,
   "metadata": {},
   "outputs": [],
   "source": [
    "# Rozkład tematów\n",
    "topic_counts = df_basic['topic'].value_counts()\n",
    "\n",
    "print(\"\\n📚 Top 15 Tematów:\")\n",
    "print(topic_counts.head(15))\n",
    "\n",
    "# Wykres\n",
    "plt.figure(figsize=(14, 6))\n",
    "topic_counts.head(15).plot(kind='barh', color='coral')\n",
    "plt.title('Top 15 Najczęstszych Tematów', fontsize=14, fontweight='bold')\n",
    "plt.xlabel('Liczba zadań')\n",
    "plt.ylabel('Temat')\n",
    "plt.gca().invert_yaxis()\n",
    "plt.tight_layout()\n",
    "plt.show()"
   ]
  },
  {
   "cell_type": "markdown",
   "metadata": {},
   "source": [
    "## 7. Analiza Rozwiązań"
   ]
  },
  {
   "cell_type": "code",
   "execution_count": null,
   "metadata": {},
   "outputs": [],
   "source": [
    "# Analiza rozwiązań\n",
    "import re\n",
    "\n",
    "solution_analysis = {\n",
    "    'no_solution': 0,\n",
    "    'single_solution': 0,\n",
    "    'multiple_solutions': 0,\n",
    "    'integer_solutions': 0,\n",
    "    'fraction_solutions': 0,\n",
    "    'formula_solutions': 0\n",
    "}\n",
    "\n",
    "for p in data:\n",
    "    solutions = p.get('solutions', [])\n",
    "    \n",
    "    if len(solutions) == 0:\n",
    "        solution_analysis['no_solution'] += 1\n",
    "    elif len(solutions) == 1:\n",
    "        solution_analysis['single_solution'] += 1\n",
    "    else:\n",
    "        solution_analysis['multiple_solutions'] += 1\n",
    "    \n",
    "    # Analiza typów rozwiązań\n",
    "    for sol in solutions:\n",
    "        if re.search(r'\\\\frac', sol):\n",
    "            solution_analysis['fraction_solutions'] += 1\n",
    "        elif re.search(r'^\\$\\d+\\$$', sol) or re.search(r'^\\$\\d+\\\\,\\d+\\$$', sol):\n",
    "            solution_analysis['integer_solutions'] += 1\n",
    "        else:\n",
    "            solution_analysis['formula_solutions'] += 1\n",
    "\n",
    "print(\"\\n💡 Analiza Rozwiązań:\")\n",
    "for key, value in solution_analysis.items():\n",
    "    print(f\"  {key}: {value}\")"
   ]
  },
  {
   "cell_type": "markdown",
   "metadata": {},
   "source": [
    "## 8. Analiza Konceptów Matematycznych"
   ]
  },
  {
   "cell_type": "code",
   "execution_count": null,
   "metadata": {},
   "outputs": [],
   "source": [
    "# Wyszukiwanie kluczowych konceptów\n",
    "concepts = {\n",
    "    'permutacja': 0,\n",
    "    'wariacja': 0,\n",
    "    'kombinacja': 0,\n",
    "    'silnia': 0,\n",
    "    'dwumian': 0,\n",
    "    'zasada mnożenia': 0,\n",
    "    'zasada dodawania': 0,\n",
    "    'zasada włączeń': 0,\n",
    "    'podzielność': 0,\n",
    "    'ciąg': 0,\n",
    "    'NWW': 0,\n",
    "    'NWD': 0\n",
    "}\n",
    "\n",
    "for p in data:\n",
    "    # Konwertujemy całe zadanie na tekst\n",
    "    text = json.dumps(p, ensure_ascii=False).lower()\n",
    "    \n",
    "    for concept in concepts:\n",
    "        if concept.lower() in text:\n",
    "            concepts[concept] += 1\n",
    "\n",
    "# Sortowanie i wyświetlanie\n",
    "concepts_sorted = sorted(concepts.items(), key=lambda x: x[1], reverse=True)\n",
    "\n",
    "print(\"\\n🧮 Częstość występowania konceptów matematycznych:\")\n",
    "for concept, count in concepts_sorted:\n",
    "    if count > 0:\n",
    "        percentage = (count / len(data)) * 100\n",
    "        print(f\"  {concept}: {count} zadań ({percentage:.1f}%)\")\n",
    "\n",
    "# Wykres\n",
    "concepts_df = pd.DataFrame(concepts_sorted, columns=['Koncept', 'Liczba'])\n",
    "concepts_df = concepts_df[concepts_df['Liczba'] > 0]\n",
    "\n",
    "plt.figure(figsize=(12, 6))\n",
    "plt.barh(concepts_df['Koncept'], concepts_df['Liczba'], color='teal')\n",
    "plt.title('Częstość Występowania Konceptów Matematycznych', fontsize=14, fontweight='bold')\n",
    "plt.xlabel('Liczba zadań')\n",
    "plt.gca().invert_yaxis()\n",
    "plt.tight_layout()\n",
    "plt.show()"
   ]
  },
  {
   "cell_type": "markdown",
   "metadata": {},
   "source": [
    "## 9. Analiza Walidacji"
   ]
  },
  {
   "cell_type": "code",
   "execution_count": null,
   "metadata": {},
   "outputs": [],
   "source": [
    "# Sprawdzenie statusu walidacji\n",
    "validation_stats = {\n",
    "    'has_validation': 0,\n",
    "    'is_valid': 0,\n",
    "    'has_warnings': 0,\n",
    "    'has_missing_fields': 0\n",
    "}\n",
    "\n",
    "warnings_list = []\n",
    "missing_fields_list = []\n",
    "\n",
    "for p in data:\n",
    "    if 'validation' in p:\n",
    "        validation_stats['has_validation'] += 1\n",
    "        \n",
    "        val = p['validation']\n",
    "        if val.get('isValid', False):\n",
    "            validation_stats['is_valid'] += 1\n",
    "        \n",
    "        if val.get('warnings', []):\n",
    "            validation_stats['has_warnings'] += 1\n",
    "            warnings_list.append((p.get('id'), val['warnings']))\n",
    "        \n",
    "        if val.get('missingFields', []):\n",
    "            validation_stats['has_missing_fields'] += 1\n",
    "            missing_fields_list.append((p.get('id'), val['missingFields']))\n",
    "\n",
    "print(\"\\n✅ Statystyki Walidacji:\")\n",
    "print(f\"  Zadania z sekcją validation: {validation_stats['has_validation']}/{len(data)}\")\n",
    "print(f\"  Zadania z isValid=true: {validation_stats['is_valid']}/{len(data)}\")\n",
    "print(f\"  Zadania z ostrzeżeniami: {validation_stats['has_warnings']}\")\n",
    "print(f\"  Zadania z brakującymi polami: {validation_stats['has_missing_fields']}\")\n",
    "\n",
    "if warnings_list:\n",
    "    print(\"\\n⚠️  Ostrzeżenia (pierwsze 5):\")\n",
    "    for pid, warns in warnings_list[:5]:\n",
    "        print(f\"  {pid}: {warns}\")\n",
    "\n",
    "if missing_fields_list:\n",
    "    print(\"\\n❌ Brakujące pola (pierwsze 5):\")\n",
    "    for pid, missing in missing_fields_list[:5]:\n",
    "        print(f\"  {pid}: {missing}\")"
   ]
  },
  {
   "cell_type": "markdown",
   "metadata": {},
   "source": [
    "## 10. Analiza Duplikatów"
   ]
  },
  {
   "cell_type": "code",
   "execution_count": null,
   "metadata": {},
   "outputs": [],
   "source": [
    "# Sprawdzenie duplikatów ID\n",
    "id_counts = Counter([p.get('id') for p in data])\n",
    "duplicates = [(id_val, count) for id_val, count in id_counts.items() if count > 1]\n",
    "\n",
    "if duplicates:\n",
    "    print(\"\\n🚨 ZNALEZIONE DUPLIKATY ID:\")\n",
    "    for id_val, count in duplicates:\n",
    "        print(f\"\\n  ID '{id_val}' występuje {count} razy:\")\n",
    "        \n",
    "        # Pokaż szczegóły dla każdego wystąpienia\n",
    "        problems_with_id = [p for p in data if p.get('id') == id_val]\n",
    "        for i, p in enumerate(problems_with_id, 1):\n",
    "            print(f\"    Wersja {i}:\")\n",
    "            print(f\"      - Statement: {p.get('statement', 'BRAK')[:80]}...\")\n",
    "            print(f\"      - Difficulty: {p.get('difficulty')}\")\n",
    "            print(f\"      - Steps: {len(p.get('steps', []))}\")\n",
    "            print(f\"      - Solution: {p.get('solutions', ['BRAK'])[0] if p.get('solutions') else 'BRAK'}\")\nelse:\n",
    "    print(\"\\n✅ Brak duplikatów ID\")"
   ]
  },
  {
   "cell_type": "markdown",
   "metadata": {},
   "source": [
    "## 11. Timestamp Analysis"
   ]
  },
  {
   "cell_type": "code",
   "execution_count": null,
   "metadata": {},
   "outputs": [],
   "source": [
    "# Analiza znaczników czasu\n",
    "timestamps = [p.get('timestamp') for p in data if 'timestamp' in p]\n",
    "\n",
    "print(f\"\\n📅 Analiza Timestamp:\")\n",
    "print(f\"  Zadania z timestamp: {len(timestamps)}/{len(data)}\")\n",
    "\n",
    "if timestamps:\n",
    "    # Grupowanie po datach\n",
    "    dates = [ts.split('T')[0] for ts in timestamps]\n",
    "    date_counts = Counter(dates)\n",
    "    \n",
    "    print(\"\\n  Rozkład edycji po datach:\")\n",
    "    for date in sorted(date_counts.keys()):\n",
    "        print(f\"    {date}: {date_counts[date]} zadań\")\n",
    "    \n",
    "    # Wykres\n",
    "    if len(date_counts) > 1:\n",
    "        plt.figure(figsize=(12, 5))\n",
    "        dates_sorted = sorted(date_counts.items())\n",
    "        x = [d[0] for d in dates_sorted]\n",
    "        y = [d[1] for d in dates_sorted]\n",
    "        plt.bar(x, y, color='purple', alpha=0.7)\n",
    "        plt.title('Liczba Edycji Zadań według Dat', fontsize=14, fontweight='bold')\n",
    "        plt.xlabel('Data')\n",
    "        plt.ylabel('Liczba zadań')\n",
    "        plt.xticks(rotation=45)\n",
    "        plt.tight_layout()\n",
    "        plt.show()"
   ]
  },
  {
   "cell_type": "markdown",
   "metadata": {},
   "source": [
    "## 12. Problematyczne Zadania"
   ]
  },
  {
   "cell_type": "code",
   "execution_count": null,
   "metadata": {},
   "outputs": [],
   "source": [
    "# Identyfikacja potencjalnie problematycznych zadań\n",
    "problematic = []\n",
    "\n",
    "for p in data:\n",
    "    issues = []\n",
    "    \n",
    "    # Sprawdzenie brakujących pól\n",
    "    if not p.get('statement'):\n",
    "        issues.append('brak statement')\n",
    "    if not p.get('solutions'):\n",
    "        issues.append('brak rozwiązania')\n",
    "    if not p.get('steps'):\n",
    "        issues.append('brak kroków')\n",
    "    if '$' not in p.get('statement', ''):\n",
    "        issues.append('brak LaTeX w statement')\n",
    "    \n",
    "    # Sprawdzenie validation\n",
    "    val = p.get('validation', {})\n",
    "    if not val.get('isValid', False):\n",
    "        issues.append('validation: nie jest valid')\n",
    "    if val.get('warnings'):\n",
    "        issues.append(f\"validation warnings: {len(val['warnings'])}\")\n",
    "    if val.get('missingFields'):\n",
    "        issues.append(f\"brakujące pola: {val['missingFields']}\")\n",
    "    \n",
    "    # Bardzo mało lub bardzo dużo kroków\n",
    "    num_steps = len(p.get('steps', []))\n",
    "    if num_steps < 3:\n",
    "        issues.append(f'tylko {num_steps} kroki')\n",
    "    elif num_steps > 20:\n",
    "        issues.append(f'aż {num_steps} kroków')\n",
    "    \n",
    "    if issues:\n",
    "        problematic.append({\n",
    "            'id': p.get('id'),\n",
    "            'issues': issues\n",
    "        })\n",
    "\n",
    "if problematic:\n",
    "    print(\"\\n⚠️  Potencjalnie problematyczne zadania:\")\n",
    "    print(f\"  Znaleziono: {len(problematic)} zadań\\n\")\n",
    "    \n",
    "    for item in problematic[:10]:  # Pokaż pierwsze 10\n",
    "        print(f\"  {item['id']}:\")\n",
    "        for issue in item['issues']:\n",
    "            print(f\"    - {issue}\")\nelse:\n",
    "    print(\"\\n✅ Nie znaleziono problematycznych zadań\")"
   ]
  },
  {
   "cell_type": "markdown",
   "metadata": {},
   "source": [
    "## 13. Podsumowanie i Rekomendacje"
   ]
  },
  {
   "cell_type": "code",
   "execution_count": null,
   "metadata": {},
   "outputs": [],
   "source": [
    "print(\"\\n\" + \"=\"*70)\n",
    "print(\"📋 PODSUMOWANIE ANALIZY\")\n",
    "print(\"=\"*70)\n",
    "\n",
    "print(f\"\\n✅ MOCNE STRONY:\")\n",
    "print(f\"  • Wszystkie zadania mają kompletne pola (hint, expression, explanation)\")\n",
    "print(f\"  • Wysoka jakość interactive choices - wszystkie z feedbackiem\")\n",
    "print(f\"  • Konsystentna struktura danych\")\n",
    "print(f\"  • Dobre pokrycie różnych poziomów trudności\")\n",
    "\n",
    "print(f\"\\n⚠️  DO POPRAWY:\")\n",
    "if duplicates:\n",
    "    print(f\"  • Znaleziono {len(duplicates)} duplikaty ID - wymagają unikalnych identyfikatorów\")\n",
    "if validation_stats['has_warnings'] > 0:\n",
    "    print(f\"  • {validation_stats['has_warnings']} zadań ma ostrzeżenia walidacji\")\n",
    "if validation_stats['has_missing_fields'] > 0:\n",
    "    print(f\"  • {validation_stats['has_missing_fields']} zadań ma brakujące pola\")\n",
    "\n",
    "# Brak LaTeX\n",
    "no_latex = sum(1 for p in data if '$' not in p.get('statement', ''))\n",
    "if no_latex > 0:\n",
    "    print(f\"  • {no_latex} zadań nie ma formatowania LaTeX w statement\")\n",
    "\n",
    "print(f\"\\n📊 STATYSTYKI KOŃCOWE:\")\n",
    "print(f\"  • Całkowita liczba zadań: {len(data)}\")\n",
    "print(f\"  • Całkowita liczba kroków: {sum(len(p.get('steps', [])) for p in data)}\")\n",
    "print(f\"  • Średnia kroków na zadanie: {sum(len(p.get('steps', [])) for p in data) / len(data):.1f}\")\n",
    "print(f\"  • Całkowita liczba interactive choices: {sum(1 for p in data for s in p.get('steps', []) if 'interactive_choice' in s)}\")\n",
    "print(f\"  • Zadania z validation: {validation_stats['has_validation']}/{len(data)}\")\n",
    "print(f\"  • Zadania z rozwiązaniami: {solution_analysis['single_solution'] + solution_analysis['multiple_solutions']}/{len(data)}\")"
   ]
  }
 ],
 "metadata": {
  "kernelspec": {
   "display_name": "Python 3",
   "language": "python",
   "name": "python3"
  },
  "language_info": {
   "codemirror_mode": {
    "name": "ipython",
    "version": 3
   },
   "file_extension": ".py",
   "mimetype": "text/x-python",
   "name": "python",
   "nbconvert_exporter": "python",
   "pygments_lexer": "ipython3",
   "version": "3.8.0"
  }
 },
 "nbformat": 4,
 "nbformat_minor": 4
}
